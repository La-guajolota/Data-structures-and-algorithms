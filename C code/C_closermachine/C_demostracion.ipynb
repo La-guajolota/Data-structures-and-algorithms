{
 "cells": [
  {
   "cell_type": "markdown",
   "metadata": {},
   "source": [
    "Hacemos el codigo"
   ]
  },
  {
   "cell_type": "code",
   "execution_count": 41,
   "metadata": {},
   "outputs": [
    {
     "name": "stdout",
     "output_type": "stream",
     "text": [
      "Overwriting c_program.c\n"
     ]
    }
   ],
   "source": [
    "%%file c_program.c\n",
    "#include <stdio.h>\n",
    "\n",
    "int main(int argc, char ** argv)\n",
    "{\n",
    "    int i=0;\n",
    "    while(i<argc){\n",
    "        printf(\"argv[%d]: %s\\n\",i,argv[i]);\n",
    "        i++;\n",
    "    }\n",
    "\n",
    "    return 0;\n",
    "}"
   ]
  },
  {
   "cell_type": "markdown",
   "metadata": {},
   "source": [
    "Compilamos el progrma que se creao arriba"
   ]
  },
  {
   "cell_type": "code",
   "execution_count": 42,
   "metadata": {},
   "outputs": [
    {
     "name": "stdout",
     "output_type": "stream",
     "text": [
      "Microsoft Windows [Versi�n 10.0.22631.3007]\n",
      "(c) Microsoft Corporation. Todos los derechos reservados.\n",
      "\n",
      "d:\\Progrmacion\\C code\\C_closermachine>gcc c_program.c -g -o c_program\n",
      "\n",
      "d:\\Progrmacion\\C code\\C_closermachine>"
     ]
    }
   ],
   "source": [
    "%%cmd\n",
    "gcc c_program.c -g -o c_program"
   ]
  },
  {
   "cell_type": "code",
   "execution_count": 44,
   "metadata": {},
   "outputs": [],
   "source": [
    "\"\"\"\n",
    "Creamos una lsita permutada y lo guardamos en un archivo para\n",
    "usarlo como argumentos para el programa en CMD\n",
    "\"\"\"\n",
    "import itertools as it\n",
    "\n",
    "perms = it.permutations([1,2,3,4,5])\n",
    "\n",
    "with open ('permutaciones.txt','w') as f:\n",
    "    for item in perms:\n",
    "        s = str(item)\n",
    "        s = s.replace('(','')\n",
    "        s = s.replace(')','')\n",
    "        s = s.replace(',','')\n",
    "        f.write(s)\n",
    "        f.write(\"\\n\")"
   ]
  },
  {
   "cell_type": "markdown",
   "metadata": {},
   "source": [
    "Corremos el programa:\n",
    "    !c_program.exe\n",
    "\n",
    "    %%cmd\n",
    "    ./c_program"
   ]
  }
 ],
 "metadata": {
  "kernelspec": {
   "display_name": "Python 3",
   "language": "python",
   "name": "python3"
  },
  "language_info": {
   "codemirror_mode": {
    "name": "ipython",
    "version": 3
   },
   "file_extension": ".py",
   "mimetype": "text/x-python",
   "name": "python",
   "nbconvert_exporter": "python",
   "pygments_lexer": "ipython3",
   "version": "3.12.1"
  }
 },
 "nbformat": 4,
 "nbformat_minor": 2
}
